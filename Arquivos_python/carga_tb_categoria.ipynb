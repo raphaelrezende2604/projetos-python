{
 "cells": [
  {
   "cell_type": "code",
   "execution_count": 17,
   "metadata": {},
   "outputs": [],
   "source": [
    "import pandas as pd\n",
    "import pyodbc\n",
    "\n",
    "server = 'VENDAS' # substitua pelo nome do seu servidor \n",
    "database = 'Python' # substitua pelo nome do seu Banco de dados\n",
    "conexaoDB = pyodbc.connect('DRIVER={ODBC DRIVER 17 for SQL Server};'\n",
    "                           f'SERVER={server};'\n",
    "                           f'DATABASE={database};'\n",
    "                           'Trusted_Connection=yes;')\n",
    "                           \n",
    "                           \n",
    "                           \n",
    "cursor = conexaoDB.cursor() #criando cursor de comando                    \n"
   ]
  },
  {
   "cell_type": "markdown",
   "metadata": {},
   "source": []
  },
  {
   "cell_type": "code",
   "execution_count": 18,
   "metadata": {},
   "outputs": [],
   "source": [
    "dados = pd.read_excel(r\"C:\\Users\\supor\\Downloads\\SQL_Server\\arquivos_excel\\Categoria.xlsx\")\n"
   ]
  },
  {
   "cell_type": "code",
   "execution_count": 19,
   "metadata": {},
   "outputs": [
    {
     "data": {
      "text/html": [
       "<div>\n",
       "<style scoped>\n",
       "    .dataframe tbody tr th:only-of-type {\n",
       "        vertical-align: middle;\n",
       "    }\n",
       "\n",
       "    .dataframe tbody tr th {\n",
       "        vertical-align: top;\n",
       "    }\n",
       "\n",
       "    .dataframe thead th {\n",
       "        text-align: right;\n",
       "    }\n",
       "</style>\n",
       "<table border=\"1\" class=\"dataframe\">\n",
       "  <thead>\n",
       "    <tr style=\"text-align: right;\">\n",
       "      <th></th>\n",
       "      <th>id</th>\n",
       "      <th>Nome</th>\n",
       "    </tr>\n",
       "  </thead>\n",
       "  <tbody>\n",
       "    <tr>\n",
       "      <th>0</th>\n",
       "      <td>0</td>\n",
       "      <td>Moda e Acessórios</td>\n",
       "    </tr>\n",
       "    <tr>\n",
       "      <th>1</th>\n",
       "      <td>1</td>\n",
       "      <td>Cosméticos e Perfumaria</td>\n",
       "    </tr>\n",
       "    <tr>\n",
       "      <th>2</th>\n",
       "      <td>2</td>\n",
       "      <td>Eletrodomésticos</td>\n",
       "    </tr>\n",
       "    <tr>\n",
       "      <th>3</th>\n",
       "      <td>3</td>\n",
       "      <td>Livros</td>\n",
       "    </tr>\n",
       "    <tr>\n",
       "      <th>4</th>\n",
       "      <td>4</td>\n",
       "      <td>Celulares</td>\n",
       "    </tr>\n",
       "  </tbody>\n",
       "</table>\n",
       "</div>"
      ],
      "text/plain": [
       "   id                     Nome\n",
       "0   0        Moda e Acessórios\n",
       "1   1  Cosméticos e Perfumaria\n",
       "2   2         Eletrodomésticos\n",
       "3   3                   Livros\n",
       "4   4                Celulares"
      ]
     },
     "execution_count": 19,
     "metadata": {},
     "output_type": "execute_result"
    }
   ],
   "source": [
    "dados = dados.rename(columns={'name':'Nome'})\n",
    "dados.head(5)"
   ]
  },
  {
   "cell_type": "code",
   "execution_count": 20,
   "metadata": {},
   "outputs": [],
   "source": [
    "for index,linha in dados.iterrows():\n",
    "\n",
    "    cursor.execute(\"insert into[categoria](ID,NOME)values(?,?)\",linha.id,linha.Nome)\n",
    "        # Inserir colunas e quantas colunas tiver passar quantidade de ??\n",
    "cursor.commit() # validar dados no SQL server\n",
    "cursor.close() # Fechar cursor \n",
    "conexaoDB.close() #Fechar conexão"
   ]
  }
 ],
 "metadata": {
  "kernelspec": {
   "display_name": "Python 3",
   "language": "python",
   "name": "python3"
  },
  "language_info": {
   "codemirror_mode": {
    "name": "ipython",
    "version": 3
   },
   "file_extension": ".py",
   "mimetype": "text/x-python",
   "name": "python",
   "nbconvert_exporter": "python",
   "pygments_lexer": "ipython3",
   "version": "3.12.2"
  }
 },
 "nbformat": 4,
 "nbformat_minor": 2
}
